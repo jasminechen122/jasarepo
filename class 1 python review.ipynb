{
 "cells": [
  {
   "cell_type": "code",
   "execution_count": 1,
   "metadata": {},
   "outputs": [
    {
     "data": {
      "text/plain": [
       "'/usr/local/bin/python3'"
      ]
     },
     "execution_count": 1,
     "metadata": {},
     "output_type": "execute_result"
    }
   ],
   "source": [
    "import sys\n",
    "sys.executable\n",
    "#where your python located"
   ]
  },
  {
   "cell_type": "code",
   "execution_count": 2,
   "metadata": {},
   "outputs": [
    {
     "name": "stdout",
     "output_type": "stream",
     "text": [
      "10\n"
     ]
    }
   ],
   "source": [
    "#cell \n",
    "x=5\n",
    "y=x+5\n",
    "print(y) #something that you can use elsewhere "
   ]
  },
  {
   "cell_type": "code",
   "execution_count": 3,
   "metadata": {},
   "outputs": [
    {
     "data": {
      "text/plain": [
       "10"
      ]
     },
     "execution_count": 3,
     "metadata": {},
     "output_type": "execute_result"
    }
   ],
   "source": [
    "x+5"
   ]
  },
  {
   "cell_type": "code",
   "execution_count": 4,
   "metadata": {},
   "outputs": [
    {
     "data": {
      "text/plain": [
       "5"
      ]
     },
     "execution_count": 4,
     "metadata": {},
     "output_type": "execute_result"
    }
   ],
   "source": [
    "#python function \n",
    "def func_name():\n",
    "    return 5\n",
    "func_name()"
   ]
  },
  {
   "cell_type": "code",
   "execution_count": 5,
   "metadata": {},
   "outputs": [],
   "source": [
    "def get_currency_list():\n",
    "    currency_list = list()\n",
    "    return currency_list"
   ]
  },
  {
   "cell_type": "code",
   "execution_count": 6,
   "metadata": {},
   "outputs": [
    {
     "data": {
      "text/plain": [
       "8"
      ]
     },
     "execution_count": 6,
     "metadata": {},
     "output_type": "execute_result"
    }
   ],
   "source": [
    "x = [1,3,8,9,10]\n",
    "x[2]"
   ]
  },
  {
   "cell_type": "code",
   "execution_count": 7,
   "metadata": {},
   "outputs": [
    {
     "ename": "IndexError",
     "evalue": "list index out of range",
     "output_type": "error",
     "traceback": [
      "\u001b[0;31m---------------------------------------------------------------------------\u001b[0m",
      "\u001b[0;31mIndexError\u001b[0m                                Traceback (most recent call last)",
      "Cell \u001b[0;32mIn [7], line 1\u001b[0m\n\u001b[0;32m----> 1\u001b[0m x[\u001b[39m7\u001b[39;49m] \u001b[39m#indexerror\u001b[39;00m\n",
      "\u001b[0;31mIndexError\u001b[0m: list index out of range"
     ]
    }
   ],
   "source": [
    "x[7] #indexerror"
   ]
  },
  {
   "cell_type": "code",
   "execution_count": null,
   "metadata": {},
   "outputs": [
    {
     "name": "stdout",
     "output_type": "stream",
     "text": [
      "1\n",
      "3\n",
      "8\n",
      "9\n",
      "10\n"
     ]
    }
   ],
   "source": [
    "for thing in x:\n",
    "    print (thing)"
   ]
  },
  {
   "cell_type": "code",
   "execution_count": null,
   "metadata": {},
   "outputs": [
    {
     "name": "stdout",
     "output_type": "stream",
     "text": [
      "0 1\n",
      "1 3\n",
      "2 8\n",
      "3 9\n",
      "4 10\n"
     ]
    }
   ],
   "source": [
    "for i in range(len(x)):\n",
    "    print(i,x[i])"
   ]
  },
  {
   "cell_type": "code",
   "execution_count": null,
   "metadata": {},
   "outputs": [
    {
     "data": {
      "text/plain": [
       "5"
      ]
     },
     "execution_count": 13,
     "metadata": {},
     "output_type": "execute_result"
    }
   ],
   "source": [
    "len(x) #five elments in the list"
   ]
  },
  {
   "cell_type": "code",
   "execution_count": null,
   "metadata": {},
   "outputs": [
    {
     "data": {
      "text/plain": [
       "[0, 1, 2, 3]"
      ]
     },
     "execution_count": 16,
     "metadata": {},
     "output_type": "execute_result"
    }
   ],
   "source": [
    "list(range(4)) #create a list with a range for 4 from 0"
   ]
  },
  {
   "cell_type": "code",
   "execution_count": null,
   "metadata": {},
   "outputs": [
    {
     "data": {
      "text/plain": [
       "range(0, 4)"
      ]
     },
     "execution_count": 17,
     "metadata": {},
     "output_type": "execute_result"
    }
   ],
   "source": [
    "range(4) #specify the range of 4"
   ]
  },
  {
   "cell_type": "code",
   "execution_count": null,
   "metadata": {},
   "outputs": [
    {
     "data": {
      "text/plain": [
       "[]"
      ]
     },
     "execution_count": 18,
     "metadata": {},
     "output_type": "execute_result"
    }
   ],
   "source": [
    "def get_currency_list():\n",
    "    currency_list = list()\n",
    "    return currency_list\n",
    "get_currency_list()"
   ]
  },
  {
   "cell_type": "code",
   "execution_count": null,
   "metadata": {},
   "outputs": [
    {
     "ename": "TypeError",
     "evalue": "'tuple' object does not support item assignment",
     "output_type": "error",
     "traceback": [
      "\u001b[0;31m---------------------------------------------------------------------------\u001b[0m",
      "\u001b[0;31mTypeError\u001b[0m                                 Traceback (most recent call last)",
      "Cell \u001b[0;32mIn [19], line 3\u001b[0m\n\u001b[1;32m      1\u001b[0m \u001b[39m#immutable object: tuple \u001b[39;00m\n\u001b[1;32m      2\u001b[0m y \u001b[39m=\u001b[39m (\u001b[39m1\u001b[39m,\u001b[39m2\u001b[39m,\u001b[39m4\u001b[39m,\u001b[39m5\u001b[39m)\n\u001b[0;32m----> 3\u001b[0m y[\u001b[39m2\u001b[39;49m]\u001b[39m=\u001b[39m\u001b[39m43\u001b[39m\n",
      "\u001b[0;31mTypeError\u001b[0m: 'tuple' object does not support item assignment"
     ]
    }
   ],
   "source": [
    "#immutable object: tuple \n",
    "y = (1,2,4,5)\n",
    "y[2]=43 #can't change tuple this way"
   ]
  },
  {
   "cell_type": "code",
   "execution_count": null,
   "metadata": {},
   "outputs": [
    {
     "data": {
      "text/plain": [
       "[1, 3, 8, 9, 10]"
      ]
     },
     "execution_count": 21,
     "metadata": {},
     "output_type": "execute_result"
    }
   ],
   "source": [
    "x"
   ]
  },
  {
   "cell_type": "code",
   "execution_count": null,
   "metadata": {},
   "outputs": [
    {
     "data": {
      "text/plain": [
       "(1, 2, [1, 3, 8, 9, 10], 9)"
      ]
     },
     "execution_count": 20,
     "metadata": {},
     "output_type": "execute_result"
    }
   ],
   "source": [
    "y=(1,2,x,9) #can change a mutable object within an immutable object \n",
    "y"
   ]
  },
  {
   "cell_type": "code",
   "execution_count": null,
   "metadata": {},
   "outputs": [
    {
     "data": {
      "text/plain": [
       "requests.models.Response"
      ]
     },
     "execution_count": 53,
     "metadata": {},
     "output_type": "execute_result"
    }
   ],
   "source": [
    "#webscrapping\n",
    "import requests\n",
    "url = 'https://thefactfile.org/countries-currencies-symbols/'\n",
    "html = requests.get(url)\n",
    "type(html) #only output starts wtih ' is a string"
   ]
  },
  {
   "cell_type": "code",
   "execution_count": null,
   "metadata": {},
   "outputs": [
    {
     "data": {
      "text/plain": [
       "<tr class=\"row-2 even\">\n",
       "<td class=\"column-1\">1.</td><td class=\"column-2\"><a href=\"https://thefactfile.org/afghanistan-facts/\" rel=\"noopener noreferrer\" target=\"_blank\">Afghanistan</a></td><td class=\"column-3\">Afghanistani Afghani</td><td class=\"column-4\">AFN</td><td class=\"column-5\">؋</td>\n",
       "</tr>"
      ]
     },
     "execution_count": 87,
     "metadata": {},
     "output_type": "execute_result"
    }
   ],
   "source": [
    "from bs4 import BeautifulSoup\n",
    "cur_list=[]\n",
    "if html.status_code == 200:\n",
    "    soup = BeautifulSoup(html.text)\n",
    "    info = soup.find('tbody',{\"class\":\"row-hover\"})\n",
    "    row_list = info.find_all('tr')\n",
    "    for e in row_list: #loop to extract data\n",
    "        country = e.find_all('td')[1].get_text()\n",
    "        currency = e.find_all('td')[2].get_text()\n",
    "        symbol = e.find_all('td')[3].get_text()\n",
    "        data = (country.strip(),currency.strip(),symbol.strip()) #The strip() method removes any leading (spaces at the beginning) \n",
    "        #and trailing (spaces at the end) characters (space is the default leading character to remove)\n",
    "        cur_list.append(data)   #cant do cur_list = cur_list.append(data) cuz nontype object\n",
    "else:\n",
    "    print('url does not work')\n",
    "info.find('tr') #return to a bs4 object"
   ]
  },
  {
   "cell_type": "code",
   "execution_count": null,
   "metadata": {},
   "outputs": [
    {
     "data": {
      "text/plain": [
       "[('Afghanistan', 'Afghanistani Afghani', 'AFN'),\n",
       " ('Armenia', 'Armenian Dram', 'AMD'),\n",
       " ('Azerbaijan', 'Azerbaijani Manat', 'AZN'),\n",
       " ('Bahrain', 'Bahraini Dinar', 'BHD'),\n",
       " ('Bangladesh', 'Bangladeshi Taka', 'BDT'),\n",
       " ('Bhutan', 'Bhutanese Ngultrum', 'BTN'),\n",
       " ('Brunei', 'Brunei Dollar', 'BND'),\n",
       " ('Cambodia', 'Cambodian Riel', 'KHR'),\n",
       " ('China', 'Chinese Yuan Renminbi', 'CNY'),\n",
       " ('Cyprus', 'Cypriot Pound', 'CYP'),\n",
       " ('Georgia', 'Georgian Lari', 'GEL'),\n",
       " ('India', 'Indian Rupee', 'INR'),\n",
       " ('Indonesia', 'Indonesian Rupiah', 'IDR'),\n",
       " ('Iran', 'Iranian Rial', 'IRR'),\n",
       " ('Iraq', 'Iraqi Dinar', 'IQD'),\n",
       " ('Israel', 'Israeli New Sheqel', 'ILS'),\n",
       " ('Japan', 'Japanese Yen', 'JPY'),\n",
       " ('Jordan', 'Jordanian Dinar', 'JOD'),\n",
       " ('Kazakhstan', 'Kazakhstani Tenge', 'KZT'),\n",
       " ('Kuwait', 'Kuwaiti Dinar', 'KWD'),\n",
       " ('Kyrgyzstan', 'Kyrgyzstani Som', 'KGS'),\n",
       " ('Laos', 'Lao Kip', 'LAK'),\n",
       " ('Lebanon', 'Lebanese Pound', 'LBP'),\n",
       " ('Malaysia', 'Malaysian Ringgit', 'MYR'),\n",
       " ('Maldives', 'Maldives Rufiyaa', 'MVR'),\n",
       " ('Mongolia', 'Mongolian Tugrik', 'MNT'),\n",
       " ('Myanmar (Burma)', 'Myanmar Kyat', 'MMK'),\n",
       " ('Nepal', 'Nepalese Rupee', 'NPR'),\n",
       " ('North Korea', 'North Korean Won', 'KPW'),\n",
       " ('Oman', 'Omani Rial', 'OMR'),\n",
       " ('Pakistan', 'Pakistan Rupee', 'PKR'),\n",
       " ('Palestine', 'Jordanian Dinar', 'JOD'),\n",
       " ('Philippines', 'Philippine Peso', 'PHP'),\n",
       " ('Qatar', 'Qatari Riyal', 'QAR'),\n",
       " ('Russia', 'Russian Ruble', 'RUB'),\n",
       " ('Saudi Arabia', 'Saudi Arabian Riyal', 'SAR'),\n",
       " ('Singapore', 'Singapore Dollar', 'SGD'),\n",
       " ('South Korea', 'Korean Won', 'KRW'),\n",
       " ('Sri Lanka', 'Sri Lankan Rupee', 'LKR'),\n",
       " ('Syria', 'Syrian Pound', 'SYP'),\n",
       " ('Taiwan', 'New Taiwan Dollar', 'TWD'),\n",
       " ('Tajikistan', 'Tajikistan Somoni', 'TJS'),\n",
       " ('Thailand', 'Thai Baht', 'THB'),\n",
       " ('Timor-Leste', 'United States Dollar', 'USD'),\n",
       " ('Turkey', 'Turkish New Lira', 'TRY'),\n",
       " ('Turkmenistan', 'Turkmenistani Manat', 'TMM'),\n",
       " ('United Arab Emirates (UAE)', 'United Arab Emirates Dirham', 'AED'),\n",
       " ('Uzbekistan', 'Uzbekistani Som', 'UZS'),\n",
       " ('Vietnam', 'Viet Nam Dong', 'VND'),\n",
       " ('Yemen', 'Yemeni Rial', 'YER'),\n",
       " ('Country', 'Currency', 'Code'),\n",
       " ('Algeria', 'Algerian Dinar', 'DZD'),\n",
       " ('Angola', 'Angolan Kwanza', 'AOA'),\n",
       " ('Benin', 'West African CFA', 'XOF'),\n",
       " ('Botswana', 'Botswana Pula', 'BWP'),\n",
       " ('Burkina Faso', 'West African CFA', 'XOF'),\n",
       " ('Burundi', 'Burundian Franc', 'BIF'),\n",
       " ('Cabo Verde', 'Cape Verde Escudo', 'CVE'),\n",
       " ('Cameroon', 'Central African CFA', 'XAF'),\n",
       " ('Central African Republic (CAR)', 'Central African CFA', 'XAF'),\n",
       " ('Chad', 'Central African CFA', 'XAF'),\n",
       " ('Comoros', 'Comorian Franc', 'KMF'),\n",
       " ('Democratic Republic of the Congo', 'Congolese franc', 'CDF'),\n",
       " ('Republic of the Congo', 'Central African CFA', 'XAF'),\n",
       " (\"Cote d'Ivoire\", 'West African CFA', 'XOF'),\n",
       " ('Djibouti', 'Djiboutian Franc', 'DJF'),\n",
       " ('Egypt', 'Egyptian Pound', 'EGP'),\n",
       " ('Equatorial Guinea', 'Central African CFA', 'XAF'),\n",
       " ('Eritrea', 'Eritrean Nakfa', 'ERN'),\n",
       " ('Ethiopia', 'Ethiopian Birr', 'ETB'),\n",
       " ('Gabon', 'Central African CFA', 'XAF'),\n",
       " ('Gambia', 'Gambian Dalasi', 'GMD'),\n",
       " ('Ghana', 'Ghanaian Cedi', 'GHC'),\n",
       " ('Guinea', 'Guinean Franc', 'GNF'),\n",
       " ('Guinea-Bissau', 'West African CFA', 'XOF'),\n",
       " ('Kenya', 'Kenyan Shilling', 'KES'),\n",
       " ('Lesotho', 'Lesotho Loti', 'LSL'),\n",
       " ('Liberia', 'Liberian Dollar', 'LRD'),\n",
       " ('Libya', 'Libyan Dinar', 'LYD'),\n",
       " ('Madagascar', 'Malagasy Ariary', 'MGA'),\n",
       " ('Malawi', 'Malawian Kwacha', 'MWK'),\n",
       " ('Mali', 'West African CFA', 'XOF'),\n",
       " ('Mauritania', 'Mauritanian Ouguiya', 'MRO'),\n",
       " ('Mauritius', 'Mauritian Rupee', 'MUR'),\n",
       " ('Morocco', 'Moroccan Dirham', 'MAD'),\n",
       " ('Mozambique', 'Mozambican Metical', 'MZN'),\n",
       " ('Namibia', 'Namibian Dollar', 'NAD'),\n",
       " ('Niger', 'West African CFA', 'XOF'),\n",
       " ('Nigeria', 'Nigerian Naira', 'NGN'),\n",
       " ('Rwanda', 'Rwandan Franc', 'RWF'),\n",
       " ('Sao Tome and Principe', 'Sao Tome Dobra', 'STD'),\n",
       " ('Senegal', 'West African CFA', 'XOF'),\n",
       " ('Seychelles', 'Seychelles Rupee', 'SCR'),\n",
       " ('Sierra Leone', 'Sierra Leonean Leone', 'SLL'),\n",
       " ('Somalia', 'Somali Shilling', 'SOS'),\n",
       " ('South Africa', 'South African Rand', 'ZAR'),\n",
       " ('South Sudan', 'South Sudanese pound', 'SSP'),\n",
       " ('Sudan', 'Sudanese pound', 'SDG'),\n",
       " ('Swaziland', 'Swazi Lilangeni', 'SZL'),\n",
       " ('Tanzania', 'Tanzanian Shilling', 'TZS'),\n",
       " ('Togo', 'West African CFA', 'XOF'),\n",
       " ('Tunisia', 'Tunisian Dinar', 'TND'),\n",
       " ('Uganda', 'Ugandan Shilling', 'UGX'),\n",
       " ('Zambia', 'Zambian Kwacha', 'ZMK'),\n",
       " ('Zimbabwe', 'Zimbabwean Dollar', 'ZWD'),\n",
       " ('Country', 'Currency', 'Code'),\n",
       " ('Albania', 'Albanian Lek', 'ALL'),\n",
       " ('Andorra', 'European Euro', 'EUR'),\n",
       " ('Armenia', 'Armenian Dram', 'AMD'),\n",
       " ('Austria', 'European Euro', 'EUR'),\n",
       " ('Azerbaijan', 'Azerbaijani Manat', 'AZN'),\n",
       " ('Belarus', 'Belarusian Ruble', 'BYR'),\n",
       " ('Belgium', 'European Euro', 'EUR'),\n",
       " ('Bosnia and Herzegovina', 'Bosnia-Herzegovina Convertible Mark', 'BAM'),\n",
       " ('Bulgaria', 'Bulgarian Lev', 'BGN'),\n",
       " ('Croatia', 'Croatian Kuna', 'HRK'),\n",
       " ('Cyprus', 'Cypriot Pound', 'CYP'),\n",
       " ('Czech Republic', 'Czech Koruna', 'CZK'),\n",
       " ('Denmark', 'Danish Krone', 'DKK'),\n",
       " ('Estonia', 'Estonian Kroon', 'EEK'),\n",
       " ('Finland', 'European Euro', 'EUR'),\n",
       " ('France', 'European Euro', 'EUR'),\n",
       " ('Georgia', 'Georgian Lari', 'GEL'),\n",
       " ('Germany', 'European Euro', 'EUR'),\n",
       " ('Greece', 'European Euro', 'EUR'),\n",
       " ('Hungary', 'Hungarian Forint', 'HUF'),\n",
       " ('Iceland', 'Icelandic Krona', 'ISK'),\n",
       " ('Ireland', 'European Euro', 'EUR'),\n",
       " ('Italy', 'European Euro', 'EUR'),\n",
       " ('Kazakhstan', 'Kazakhstani Tenge', 'KZT'),\n",
       " ('Kosovo', 'Euro', 'EUR'),\n",
       " ('Latvia', 'Latvian Lats', 'LVL'),\n",
       " ('Liechtenstein', 'Swiss Franc', 'CHF'),\n",
       " ('Lithuania', 'Lithuanian Litas', 'LTL'),\n",
       " ('Luxembourg', 'European Euro', 'EUR'),\n",
       " ('Macedonia (FYROM)', 'Macedonian Denar', 'MKD'),\n",
       " ('Malta', 'Maltese Lira', 'MTL'),\n",
       " ('Moldova', 'Moldovan Leu', 'MDL'),\n",
       " ('Monaco', 'European Euro', 'EUR'),\n",
       " ('Montenegro', 'European Euro', 'EUR'),\n",
       " ('Netherlands', 'European Euro', 'EUR'),\n",
       " ('Norway', 'Norwegian Krone', 'NOK'),\n",
       " ('Poland', 'Polish Zloty', 'PLN'),\n",
       " ('Portugal', 'European Euro', 'EUR'),\n",
       " ('Romania', 'Romanian Leu', 'RON'),\n",
       " ('Russia', 'Russian Ruble', 'RUB'),\n",
       " ('San Marino', 'European Euro', 'EUR'),\n",
       " ('Serbia', 'Serbian Dinar', 'RSD'),\n",
       " ('Slovakia', 'Slovak Koruna', 'SKK'),\n",
       " ('Slovenia', 'European Euro', 'EUR'),\n",
       " ('Spain', 'European Euro', 'EUR'),\n",
       " ('Sweden', 'Swedish Krona', 'SEK'),\n",
       " ('Switzerland', 'Swiss Franc', 'CHF'),\n",
       " ('Turkey', 'Turkish New Lira', 'TRY'),\n",
       " ('Ukraine', 'Ukrainian Hryvnia', 'UAH'),\n",
       " ('United Kingdom (UK)', 'United Kingdom Pound Sterling', 'GBP'),\n",
       " ('Vatican City (Holy See)', 'European Euro', 'EUR'),\n",
       " ('Country', 'Currency', 'Code'),\n",
       " ('Antigua and Barbuda', 'East Caribbean Dollar', 'XCD'),\n",
       " ('Bahamas', 'Bahamian Dollar', 'BSD'),\n",
       " ('Barbados', 'Barbados Dollar', 'BBD'),\n",
       " ('Belize', 'Belize Dollar', 'BZD'),\n",
       " ('Canada', 'Canadian Dollar', 'CAD'),\n",
       " ('Costa Rica', 'Costa Rican Colon', 'CRC'),\n",
       " ('Cuba', 'Cuban Convertible Peso', 'CUC'),\n",
       " ('Dominica', 'East Caribbean Dollar', 'XCD'),\n",
       " ('Dominican Republic', 'Dominican Peso', 'DOP'),\n",
       " ('El Salvador', 'United States Dollar', 'USD'),\n",
       " ('Grenada', 'East Caribbean Dollar', 'XCD'),\n",
       " ('Guatemala', 'Guatemalan Quetzal', 'GTQ'),\n",
       " ('Haiti', 'Haitian Gourde', 'HTG'),\n",
       " ('Honduras', 'Honduran Lempira', 'HNL'),\n",
       " ('Jamaica', 'Jamaican Dollar', 'JMD'),\n",
       " ('Mexico', 'Mexican Peso', 'MXN'),\n",
       " ('Nicaragua', 'Nicaraguan Córdoba', 'NIO'),\n",
       " ('Panama', 'Panamanian Balboa', 'PAB'),\n",
       " ('Saint Kitts and Nevis', 'East Caribbean Dollar', 'XCD'),\n",
       " ('Saint Lucia', 'East Caribbean Dollar', 'XCD'),\n",
       " ('Saint Vincent and the Grenadines', 'East Caribbean Dollar', 'XCD'),\n",
       " ('Trinidad and Tobago', 'Trinidad and Tobago Dollar', 'TTD'),\n",
       " ('United States of America (USA)', 'United States Dollar', 'USD'),\n",
       " ('Country', 'Currency', 'Code'),\n",
       " ('Argentina', 'Argentine Peso', 'ARS'),\n",
       " ('Bolivia', 'Bolivian Boliviano', 'BOB'),\n",
       " ('Brazil', 'Brazilian Real', 'BRL'),\n",
       " ('Chile', 'Chilean Peso', 'CLP'),\n",
       " ('Colombia', 'Colombian Peso', 'COP'),\n",
       " ('Ecuador', 'United States Dollar', 'USD'),\n",
       " ('Guyana', 'Guyanese Dollar', 'GYD'),\n",
       " ('Paraguay', 'Paraguay Guarani', 'PYG'),\n",
       " ('Peru', 'Peruvian Nuevo Sol', 'PEN'),\n",
       " ('Suriname', 'Suriname Dollar', 'SRD'),\n",
       " ('Uruguay', 'Uruguayan peso', 'UYU'),\n",
       " ('Venezuela', 'Venezuelan Bolivar', 'VEF'),\n",
       " ('Country', 'Currency', 'Code'),\n",
       " ('Australia', 'Australian Dollar', 'AUD'),\n",
       " ('Fiji', 'Fiji Dollar', 'FJD'),\n",
       " ('Kiribati', 'Australian Dollar', 'AUD'),\n",
       " ('Marshall Islands', 'United States Dollar', 'USD'),\n",
       " ('Micronesia', 'United States Dollar', 'USD'),\n",
       " ('Nauru', 'Australian Dollar', 'AUD'),\n",
       " ('New Zealand', 'New Zealand Dollar', 'NZD'),\n",
       " ('Palau', 'United States Dollar', 'USD'),\n",
       " ('Papua New Guinea', 'Papua New Guinea Kina', 'PGK'),\n",
       " ('Samoa', 'Samoan Tala', 'WST'),\n",
       " ('Solomon Islands', 'Solomon Islands Dollar', 'SBD'),\n",
       " ('Tonga', \"Tongan Pa'Anga\", 'TOP'),\n",
       " ('Tuvalu', 'Australian Dollar', 'AUD')]"
      ]
     },
     "execution_count": 88,
     "metadata": {},
     "output_type": "execute_result"
    }
   ],
   "source": [
    "cur_list"
   ]
  },
  {
   "cell_type": "code",
   "execution_count": null,
   "metadata": {},
   "outputs": [
    {
     "data": {
      "text/plain": [
       "bs4.element.Tag"
      ]
     },
     "execution_count": 60,
     "metadata": {},
     "output_type": "execute_result"
    }
   ],
   "source": [
    "type(info)"
   ]
  },
  {
   "cell_type": "code",
   "execution_count": null,
   "metadata": {},
   "outputs": [
    {
     "data": {
      "text/plain": [
       "bs4.BeautifulSoup"
      ]
     },
     "execution_count": 61,
     "metadata": {},
     "output_type": "execute_result"
    }
   ],
   "source": [
    "type(soup)"
   ]
  },
  {
   "cell_type": "code",
   "execution_count": null,
   "metadata": {},
   "outputs": [
    {
     "data": {
      "text/plain": [
       "bs4.element.ResultSet"
      ]
     },
     "execution_count": 66,
     "metadata": {},
     "output_type": "execute_result"
    }
   ],
   "source": [
    "\n",
    "type(info.find_all('tr')) #cant directly use info from a list can only use info from a tag, list starts with []"
   ]
  },
  {
   "cell_type": "code",
   "execution_count": null,
   "metadata": {},
   "outputs": [
    {
     "data": {
      "text/plain": [
       "'Afghanistan'"
      ]
     },
     "execution_count": 74,
     "metadata": {},
     "output_type": "execute_result"
    }
   ],
   "source": [
    "country = row_list[0].find_all('td')[1].get_text()\n",
    "country"
   ]
  },
  {
   "cell_type": "code",
   "execution_count": 8,
   "metadata": {},
   "outputs": [
    {
     "ename": "NameError",
     "evalue": "name 'row_list' is not defined",
     "output_type": "error",
     "traceback": [
      "\u001b[0;31m---------------------------------------------------------------------------\u001b[0m",
      "\u001b[0;31mNameError\u001b[0m                                 Traceback (most recent call last)",
      "Cell \u001b[0;32mIn [8], line 1\u001b[0m\n\u001b[0;32m----> 1\u001b[0m currency \u001b[39m=\u001b[39m row_list[\u001b[39m0\u001b[39m]\u001b[39m.\u001b[39mfind_all(\u001b[39m'\u001b[39m\u001b[39mtd\u001b[39m\u001b[39m'\u001b[39m)[\u001b[39m2\u001b[39m]\u001b[39m.\u001b[39mget_text()\n\u001b[1;32m      2\u001b[0m currency\n",
      "\u001b[0;31mNameError\u001b[0m: name 'row_list' is not defined"
     ]
    }
   ],
   "source": [
    "currency = row_list[0].find_all('td')[2].get_text()\n",
    "currency"
   ]
  },
  {
   "cell_type": "code",
   "execution_count": null,
   "metadata": {},
   "outputs": [
    {
     "data": {
      "text/plain": [
       "'AFN'"
      ]
     },
     "execution_count": 77,
     "metadata": {},
     "output_type": "execute_result"
    }
   ],
   "source": [
    "symbol = row_list[0].find_all('td')[3].get_text()\n",
    "symbol"
   ]
  },
  {
   "cell_type": "code",
   "execution_count": null,
   "metadata": {},
   "outputs": [
    {
     "name": "stdout",
     "output_type": "stream",
     "text": [
      "('Afghanistan', 'Afghanistani Afghani', 'AFN')\n",
      "('Armenia', 'Armenian Dram', 'AMD')\n",
      "('Azerbaijan', 'Azerbaijani Manat', 'AZN')\n",
      "('Bahrain', 'Bahraini Dinar', 'BHD')\n",
      "('Bangladesh', 'Bangladeshi Taka', 'BDT')\n",
      "('Bhutan', 'Bhutanese Ngultrum', 'BTN')\n",
      "('Brunei', 'Brunei Dollar', 'BND')\n",
      "('Cambodia', 'Cambodian Riel', 'KHR')\n",
      "('China', 'Chinese Yuan Renminbi', 'CNY')\n",
      "('Cyprus', 'Cypriot Pound\\n', 'CYP')\n",
      "('Georgia', 'Georgian Lari', 'GEL')\n",
      "('India', 'Indian Rupee', 'INR')\n",
      "('Indonesia', 'Indonesian Rupiah', 'IDR')\n",
      "('Iran', 'Iranian Rial', 'IRR')\n",
      "('Iraq', 'Iraqi Dinar', 'IQD')\n",
      "('Israel', 'Israeli New Sheqel', 'ILS')\n",
      "('Japan', 'Japanese Yen', 'JPY')\n",
      "('Jordan', 'Jordanian Dinar', 'JOD')\n",
      "('Kazakhstan', 'Kazakhstani Tenge', 'KZT')\n",
      "('Kuwait', 'Kuwaiti Dinar\\n', 'KWD')\n",
      "('Kyrgyzstan', 'Kyrgyzstani Som', 'KGS')\n",
      "('Laos', 'Lao Kip', 'LAK')\n",
      "('Lebanon', 'Lebanese Pound', 'LBP')\n",
      "('Malaysia', 'Malaysian Ringgit', 'MYR')\n",
      "('Maldives', 'Maldives Rufiyaa', 'MVR')\n",
      "('Mongolia', 'Mongolian Tugrik', 'MNT')\n",
      "('Myanmar (Burma)', 'Myanmar Kyat', 'MMK')\n",
      "('Nepal', 'Nepalese Rupee', 'NPR')\n",
      "('North Korea', 'North Korean Won', 'KPW')\n",
      "('Oman', 'Omani Rial\\n', 'OMR')\n",
      "('Pakistan', 'Pakistan Rupee', 'PKR')\n",
      "('Palestine', 'Jordanian Dinar', 'JOD')\n",
      "('Philippines', 'Philippine Peso', 'PHP')\n",
      "('Qatar', 'Qatari Riyal', 'QAR')\n",
      "('Russia', 'Russian Ruble', 'RUB')\n",
      "('Saudi Arabia', 'Saudi Arabian Riyal', 'SAR')\n",
      "('Singapore', 'Singapore Dollar', 'SGD')\n",
      "('South Korea', 'Korean Won', 'KRW')\n",
      "('Sri Lanka', 'Sri Lankan Rupee', 'LKR')\n",
      "('Syria', 'Syrian Pound\\n', 'SYP')\n",
      "('Taiwan', 'New Taiwan Dollar', 'TWD')\n",
      "('Tajikistan', 'Tajikistan Somoni', 'TJS')\n",
      "('Thailand', 'Thai Baht', 'THB')\n",
      "('Timor-Leste', 'United States Dollar', 'USD')\n",
      "('Turkey', 'Turkish New Lira', 'TRY')\n",
      "('Turkmenistan', 'Turkmenistani Manat', 'TMM')\n",
      "('United Arab Emirates (UAE)', 'United Arab Emirates Dirham', 'AED')\n",
      "('Uzbekistan', 'Uzbekistani Som', 'UZS')\n",
      "('Vietnam', 'Viet Nam Dong', 'VND')\n",
      "('Yemen', 'Yemeni Rial\\n', 'YER')\n",
      "('Country', 'Currency', 'Code')\n",
      "('Algeria', 'Algerian Dinar', 'DZD')\n",
      "('Angola', 'Angolan Kwanza', 'AOA')\n",
      "('Benin', 'West African CFA', 'XOF')\n",
      "('Botswana', 'Botswana Pula', 'BWP')\n",
      "('Burkina Faso', 'West African CFA', 'XOF')\n",
      "('Burundi', 'Burundian Franc', 'BIF')\n",
      "('Cabo Verde', 'Cape Verde Escudo', 'CVE')\n",
      "('Cameroon', 'Central African CFA', 'XAF')\n",
      "('Central African Republic (CAR)', 'Central African CFA', 'XAF')\n",
      "('Chad', 'Central African CFA\\n', 'XAF')\n",
      "('Comoros', 'Comorian Franc', 'KMF')\n",
      "('Democratic Republic of the Congo', 'Congolese franc', 'CDF')\n",
      "('Republic of the Congo', 'Central African CFA', 'XAF')\n",
      "(\"Cote d'Ivoire\", 'West African CFA', 'XOF')\n",
      "('Djibouti', 'Djiboutian Franc', 'DJF')\n",
      "('Egypt', 'Egyptian Pound', 'EGP')\n",
      "('Equatorial Guinea', 'Central African CFA', 'XAF')\n",
      "('Eritrea', 'Eritrean Nakfa', 'ERN')\n",
      "('Ethiopia', 'Ethiopian Birr', 'ETB')\n",
      "('Gabon', 'Central African CFA\\n', 'XAF')\n",
      "('Gambia', 'Gambian Dalasi', 'GMD')\n",
      "('Ghana', 'Ghanaian Cedi', 'GHC')\n",
      "('Guinea', 'Guinean Franc', 'GNF')\n",
      "('Guinea-Bissau', 'West African CFA', 'XOF')\n",
      "('Kenya', 'Kenyan Shilling', 'KES')\n",
      "('Lesotho', 'Lesotho Loti', 'LSL')\n",
      "('Liberia', 'Liberian Dollar', 'LRD')\n",
      "('Libya', 'Libyan Dinar', 'LYD')\n",
      "('Madagascar', 'Malagasy Ariary', 'MGA')\n",
      "('Malawi', 'Malawian Kwacha\\n', 'MWK')\n",
      "('Mali', 'West African CFA', 'XOF')\n",
      "('Mauritania', 'Mauritanian Ouguiya', 'MRO')\n",
      "('Mauritius', 'Mauritian Rupee', 'MUR')\n",
      "('Morocco', 'Moroccan Dirham', 'MAD')\n",
      "('Mozambique', 'Mozambican Metical', 'MZN')\n",
      "('Namibia', 'Namibian Dollar', 'NAD')\n",
      "('Niger', 'West African CFA', 'XOF')\n",
      "('Nigeria', 'Nigerian Naira', 'NGN')\n",
      "('Rwanda', 'Rwandan Franc', 'RWF')\n",
      "('Sao Tome and Principe\\n', 'Sao Tome Dobra\\n', 'STD')\n",
      "('Senegal', 'West African CFA', 'XOF')\n",
      "('Seychelles\\n', 'Seychelles Rupee', 'SCR')\n",
      "('Sierra Leone\\n', 'Sierra Leonean Leone', 'SLL')\n",
      "('Somalia', 'Somali Shilling', 'SOS')\n",
      "('South Africa', 'South African Rand', 'ZAR')\n",
      "('South Sudan', 'South Sudanese pound', 'SSP')\n",
      "('Sudan', 'Sudanese pound', 'SDG')\n",
      "('Swaziland\\n', 'Swazi Lilangeni', 'SZL')\n",
      "('Tanzania', 'Tanzanian Shilling', 'TZS')\n",
      "('Togo', 'West African CFA\\n', 'XOF')\n",
      "('Tunisia\\n', 'Tunisian Dinar', 'TND')\n",
      "('Uganda', 'Ugandan Shilling', 'UGX')\n",
      "('Zambia\\n', 'Zambian Kwacha', 'ZMK')\n",
      "('Zimbabwe', 'Zimbabwean Dollar', 'ZWD')\n",
      "('Country', 'Currency', 'Code')\n",
      "('Albania', 'Albanian Lek', 'ALL')\n",
      "('Andorra', 'European Euro', 'EUR')\n",
      "('Armenia\\n', 'Armenian Dram', 'AMD')\n",
      "('Austria', 'European Euro', 'EUR')\n",
      "('Azerbaijan', 'Azerbaijani Manat', 'AZN')\n",
      "('Belarus', 'Belarusian Ruble\\n', 'BYR')\n",
      "('Belgium', 'European Euro', 'EUR')\n",
      "('Bosnia and Herzegovina\\n', 'Bosnia-Herzegovina Convertible Mark', 'BAM')\n",
      "('Bulgaria', 'Bulgarian Lev', 'BGN')\n",
      "('Croatia', 'Croatian Kuna', 'HRK')\n",
      "('Cyprus', 'Cypriot Pound', 'CYP')\n",
      "('Czech Republic', 'Czech Koruna', 'CZK')\n",
      "('Denmark', 'Danish Krone', 'DKK')\n",
      "('Estonia', 'Estonian Kroon', 'EEK')\n",
      "('Finland', 'European Euro', 'EUR')\n",
      "('France', 'European Euro\\n', 'EUR')\n",
      "('Georgia\\n', 'Georgian Lari', 'GEL')\n",
      "('Germany', 'European Euro', 'EUR')\n",
      "('Greece\\n', 'European Euro', 'EUR')\n",
      "('Hungary', 'Hungarian Forint', 'HUF')\n",
      "('Iceland', 'Icelandic Krona', 'ISK')\n",
      "('Ireland\\n', 'European Euro', 'EUR')\n",
      "('Italy', 'European Euro', 'EUR')\n",
      "('Kazakhstan', 'Kazakhstani Tenge', 'KZT')\n",
      "('Kosovo', 'Euro', 'EUR')\n",
      "('Latvia', 'Latvian Lats\\n\\n', 'LVL')\n",
      "('Liechtenstein\\n', 'Swiss Franc', 'CHF')\n",
      "('Lithuania\\n', 'Lithuanian Litas', 'LTL')\n",
      "('Luxembourg\\n', 'European Euro', 'EUR')\n",
      "('Macedonia (FYROM)\\n', 'Macedonian Denar', 'MKD')\n",
      "('Malta\\n', 'Maltese Lira', 'MTL')\n",
      "('Moldova\\n', 'Moldovan Leu', 'MDL')\n",
      "('Monaco\\n', 'European Euro', 'EUR')\n",
      "('Montenegro\\n', 'European Euro', 'EUR')\n",
      "('Netherlands\\n', 'European Euro', 'EUR')\n",
      "('Norway\\n', 'Norwegian Krone\\n', 'NOK')\n",
      "('Poland\\n', 'Polish Zloty', 'PLN')\n",
      "('Portugal\\n', 'European Euro', 'EUR')\n",
      "('Romania\\n', 'Romanian Leu', 'RON')\n",
      "('Russia\\n', 'Russian Ruble', 'RUB')\n",
      "('San Marino\\n', 'European Euro', 'EUR')\n",
      "('Serbia\\n', 'Serbian Dinar', 'RSD')\n",
      "('Slovakia\\n', 'Slovak Koruna', 'SKK')\n",
      "('Slovenia\\n', 'European Euro', 'EUR')\n",
      "('Spain\\n', 'European Euro', 'EUR')\n",
      "('Sweden\\n', 'Swedish Krona\\n', 'SEK')\n",
      "('Switzerland\\n', 'Swiss Franc', 'CHF')\n",
      "('Turkey\\n', 'Turkish New Lira', 'TRY')\n",
      "('Ukraine\\n', 'Ukrainian Hryvnia', 'UAH')\n",
      "('United Kingdom (UK)\\n', 'United Kingdom Pound Sterling', 'GBP')\n",
      "('Vatican City (Holy See)\\n', 'European Euro', 'EUR')\n",
      "('Country', 'Currency', 'Code')\n",
      "('Antigua and Barbuda\\n', 'East Caribbean Dollar', 'XCD')\n",
      "('Bahamas\\n', 'Bahamian Dollar', 'BSD')\n",
      "('Barbados\\n', 'Barbados Dollar', 'BBD')\n",
      "('Belize\\n', 'Belize Dollar', 'BZD')\n",
      "('Canada\\n', 'Canadian Dollar\\n', 'CAD')\n",
      "('Costa Rica\\n', 'Costa Rican Colon', 'CRC')\n",
      "('Cuba\\n', 'Cuban Convertible Peso', 'CUC')\n",
      "('Dominica\\n', 'East Caribbean Dollar', 'XCD')\n",
      "('Dominican Republic\\n', 'Dominican Peso', 'DOP')\n",
      "('El Salvador\\n', 'United States Dollar', 'USD')\n",
      "('Grenada\\n', 'East Caribbean Dollar', 'XCD')\n",
      "('Guatemala\\n', 'Guatemalan Quetzal', 'GTQ')\n",
      "('Haiti\\n', 'Haitian Gourde', 'HTG')\n",
      "('Honduras\\n', 'Honduran Lempira', 'HNL')\n",
      "('Jamaica\\n', 'Jamaican Dollar\\n', 'JMD')\n",
      "('Mexico\\n', 'Mexican Peso', 'MXN')\n",
      "('Nicaragua\\n', 'Nicaraguan Córdoba', 'NIO')\n",
      "('Panama\\n', 'Panamanian Balboa', 'PAB')\n",
      "('Saint Kitts and Nevis\\n', 'East Caribbean Dollar', 'XCD')\n",
      "('Saint Lucia\\n', 'East Caribbean Dollar', 'XCD')\n",
      "('Saint Vincent and the Grenadines\\n', 'East Caribbean Dollar', 'XCD')\n",
      "('Trinidad and Tobago\\n', 'Trinidad and Tobago Dollar', 'TTD')\n",
      "('United States of America (USA)\\n', 'United States Dollar', 'USD')\n",
      "('Country', 'Currency', 'Code')\n",
      "('Argentina\\n', 'Argentine Peso', 'ARS')\n",
      "('Bolivia\\n', 'Bolivian Boliviano\\n', 'BOB')\n",
      "('Brazil\\n', 'Brazilian Real', 'BRL')\n",
      "('Chile\\n', 'Chilean Peso', 'CLP')\n",
      "('Colombia\\n', 'Colombian Peso', 'COP')\n",
      "('Ecuador\\n', 'United States Dollar', 'USD')\n",
      "('Guyana\\n', 'Guyanese Dollar', 'GYD')\n",
      "('Paraguay\\n', 'Paraguay Guarani', 'PYG')\n",
      "('Peru\\n', 'Peruvian Nuevo Sol', 'PEN')\n",
      "('Suriname\\n', 'Suriname Dollar', 'SRD')\n",
      "('Uruguay\\n', 'Uruguayan peso', 'UYU')\n",
      "('Venezuela\\n', 'Venezuelan Bolivar\\n', 'VEF')\n",
      "('Country', 'Currency', 'Code')\n",
      "('Australia\\n', 'Australian Dollar', 'AUD')\n",
      "('Fiji\\n', 'Fiji Dollar', 'FJD')\n",
      "('Kiribati\\n', 'Australian Dollar', 'AUD')\n",
      "('Marshall Islands\\n', 'United States Dollar', 'USD')\n",
      "('Micronesia\\n', 'United States Dollar', 'USD')\n",
      "('Nauru\\n', 'Australian Dollar', 'AUD')\n",
      "('New Zealand\\n', 'New Zealand Dollar', 'NZD')\n",
      "('Palau\\n', 'United States Dollar', 'USD')\n",
      "('Papua New Guinea\\n', 'Papua New Guinea Kina', 'PGK')\n",
      "('Samoa\\n', 'Samoan Tala\\n', 'WST')\n",
      "('Solomon Islands\\n', 'Solomon Islands Dollar', 'SBD')\n",
      "('Tonga\\n', \"Tongan Pa'Anga\", 'TOP')\n",
      "('Tuvalu\\n', 'Australian Dollar', 'AUD')\n"
     ]
    }
   ],
   "source": [
    "for e in row_list: #loop to extract data\n",
    "    country = e.find_all('td')[1].get_text()\n",
    "    currency = e.find_all('td')[2].get_text()\n",
    "    symbol = e.find_all('td')[3].get_text()\n",
    "    data = (country,currency,symbol)\n",
    "    print(data)"
   ]
  },
  {
   "cell_type": "code",
   "execution_count": null,
   "metadata": {},
   "outputs": [],
   "source": []
  },
  {
   "cell_type": "code",
   "execution_count": 14,
   "metadata": {},
   "outputs": [
    {
     "ename": "TypeError",
     "evalue": "get_currency_list_new() missing 1 required positional argument: 'html'",
     "output_type": "error",
     "traceback": [
      "\u001b[0;31m---------------------------------------------------------------------------\u001b[0m",
      "\u001b[0;31mTypeError\u001b[0m                                 Traceback (most recent call last)",
      "Cell \u001b[0;32mIn [14], line 16\u001b[0m\n\u001b[1;32m     14\u001b[0m             cur_list\u001b[39m.\u001b[39mappend(data)   \u001b[39m#cant do cur_list = cur_list.append(data) cuz nontype object\u001b[39;00m\n\u001b[1;32m     15\u001b[0m     \u001b[39mreturn\u001b[39;00m cur_list\n\u001b[0;32m---> 16\u001b[0m get_currency_list_new()\n",
      "\u001b[0;31mTypeError\u001b[0m: get_currency_list_new() missing 1 required positional argument: 'html'"
     ]
    }
   ],
   "source": [
    "def get_currency_list_new():\n",
    "    from bs4 import BeautifulSoup\n",
    "    cur_list=[]\n",
    "    if html.status_code == 200:\n",
    "        soup = BeautifulSoup(html.text)\n",
    "        info = soup.find('tbody',{\"class\":\"row-hover\"})\n",
    "        row_list = info.find_all('tr')\n",
    "        for e in row_list: #loop to extract data\n",
    "            country = e.find_all('td')[1].get_text()\n",
    "            currency = e.find_all('td')[2].get_text()\n",
    "            symbol = e.find_all('td')[3].get_text()\n",
    "            data = (country.strip(),currency.strip(),symbol.strip()) #The strip() method removes any leading (spaces at the beginning) \n",
    "            #and trailing (spaces at the end) characters (space is the default leading character to remove)\n",
    "            cur_list.append(data)   #cant do cur_list = cur_list.append(data) cuz nontype object\n",
    "    return cur_list\n",
    "get_currency_list_new()"
   ]
  },
  {
   "cell_type": "code",
   "execution_count": null,
   "metadata": {},
   "outputs": [
    {
     "data": {
      "text/plain": [
       "'8'"
      ]
     },
     "execution_count": 92,
     "metadata": {},
     "output_type": "execute_result"
    }
   ],
   "source": [
    "my_dict = {'a':'1','b':'4','c':'8'}\n",
    "my_dict['c']"
   ]
  },
  {
   "cell_type": "code",
   "execution_count": null,
   "metadata": {},
   "outputs": [
    {
     "data": {
      "text/plain": [
       "{'a': '1', 'b': '4', 'c': 58}"
      ]
     },
     "execution_count": 93,
     "metadata": {},
     "output_type": "execute_result"
    }
   ],
   "source": [
    "my_dict['c'] = 58\n",
    "my_dict"
   ]
  },
  {
   "cell_type": "code",
   "execution_count": null,
   "metadata": {},
   "outputs": [
    {
     "name": "stdout",
     "output_type": "stream",
     "text": [
      "a 1\n",
      "b 4\n",
      "c 58\n"
     ]
    }
   ],
   "source": [
    "for key in my_dict:\n",
    "    print(key,my_dict[key])"
   ]
  },
  {
   "cell_type": "code",
   "execution_count": null,
   "metadata": {},
   "outputs": [
    {
     "name": "stdout",
     "output_type": "stream",
     "text": [
      "a 1\n",
      "b 4\n",
      "c 58\n"
     ]
    }
   ],
   "source": [
    "for key,value in my_dict.items():\n",
    "    print(key,value)"
   ]
  },
  {
   "cell_type": "code",
   "execution_count": 12,
   "metadata": {},
   "outputs": [],
   "source": [
    "def get_currency_rates(symbol):\n",
    "    x_rate_list = list()\n",
    "    import requests\n",
    "    from bs4 import BeautifulSoup\n",
    "    url = 'https://www.xe.com/currencytables/?from=' + symbol\n",
    "    html = requests.get(url)\n",
    "    if html.status_code == 200:\n",
    "        soup = BeautifulSoup(html.text)\n",
    "        info = soup.find('tbody',{\"class\":\"row-hover\"})\n",
    "    return x_rate_list\n",
    "        "
   ]
  },
  {
   "cell_type": "code",
   "execution_count": 11,
   "metadata": {},
   "outputs": [
    {
     "ename": "NameError",
     "evalue": "name 'symbol' is not defined",
     "output_type": "error",
     "traceback": [
      "\u001b[0;31m---------------------------------------------------------------------------\u001b[0m",
      "\u001b[0;31mNameError\u001b[0m                                 Traceback (most recent call last)",
      "Cell \u001b[0;32mIn [11], line 4\u001b[0m\n\u001b[1;32m      2\u001b[0m \u001b[39mimport\u001b[39;00m \u001b[39mrequests\u001b[39;00m\n\u001b[1;32m      3\u001b[0m \u001b[39mfrom\u001b[39;00m \u001b[39mbs4\u001b[39;00m \u001b[39mimport\u001b[39;00m BeautifulSoup\n\u001b[0;32m----> 4\u001b[0m url \u001b[39m=\u001b[39m \u001b[39m'\u001b[39m\u001b[39mhttps://www.xe.com/currencytables/?from=\u001b[39m\u001b[39m'\u001b[39m \u001b[39m+\u001b[39m symbol\n\u001b[1;32m      5\u001b[0m html \u001b[39m=\u001b[39m requests\u001b[39m.\u001b[39mget(url)\n\u001b[1;32m      6\u001b[0m \u001b[39mif\u001b[39;00m html\u001b[39m.\u001b[39mstatus_code \u001b[39m==\u001b[39m \u001b[39m200\u001b[39m:\n",
      "\u001b[0;31mNameError\u001b[0m: name 'symbol' is not defined"
     ]
    }
   ],
   "source": [
    "x_rate_list = list()\n",
    "import requests\n",
    "from bs4 import BeautifulSoup\n",
    "url = 'https://www.xe.com/currencytables/?from=' + symbol\n",
    "html = requests.get(url)\n",
    "if html.status_code == 200:\n",
    "    soup = BeautifulSoup(html.text)\n",
    "    info = soup.find('tbody')\n",
    "    info_row = info.find_all('tr')\n",
    "    for r in info_row:\n",
    "        rate = info.find_all('tr')[0].find('a').get_text()"
   ]
  },
  {
   "cell_type": "code",
   "execution_count": null,
   "metadata": {},
   "outputs": [
    {
     "data": {
      "text/plain": [
       "<td>0.7023938212667176</td>"
      ]
     },
     "execution_count": 113,
     "metadata": {},
     "output_type": "execute_result"
    }
   ],
   "source": [
    "rate = info.find_all('tr')[0].find_all('td')[1]\n",
    "rate"
   ]
  },
  {
   "cell_type": "code",
   "execution_count": null,
   "metadata": {},
   "outputs": [
    {
     "data": {
      "text/plain": [
       "'USD'"
      ]
     },
     "execution_count": 112,
     "metadata": {},
     "output_type": "execute_result"
    }
   ],
   "source": [
    "x_currency = info.find_all('tr')[0].find('a').get_text()\n",
    "x_currency"
   ]
  },
  {
   "cell_type": "code",
   "execution_count": 9,
   "metadata": {},
   "outputs": [],
   "source": [
    "def get_currency_rates(iso_code):\n",
    "    url = \"http://www.xe.com/currencytables/?from=\" + iso_code\n",
    "    import requests\n",
    "    from bs4 import BeautifulSoup\n",
    "    x_rate_list = list()\n",
    "    try:\n",
    "        page_source = BeautifulSoup(requests.get(url).content)\n",
    "    except:\n",
    "        return x_rate_list\n",
    "    data = page_source.find('tbody')\n",
    "    data_lines = data.find_all('tr')\n",
    "    for line in data_lines:\n",
    "        symbol = line.find('th').get_text()\n",
    "        data=line.find_all('td')\n",
    "        try:\n",
    "            x_rate = float(data[2].get_text().strip())\n",
    "            x_rate_list.append((symbol,x_rate))\n",
    "        except:\n",
    "            continue\n",
    "    return x_rate_list"
   ]
  },
  {
   "cell_type": "code",
   "execution_count": 15,
   "metadata": {},
   "outputs": [
    {
     "ename": "AttributeError",
     "evalue": "ResultSet object has no attribute 'get_text'. You're probably treating a list of elements like a single element. Did you call find_all() when you meant to call find()?",
     "output_type": "error",
     "traceback": [
      "\u001b[0;31m---------------------------------------------------------------------------\u001b[0m",
      "\u001b[0;31mAttributeError\u001b[0m                            Traceback (most recent call last)",
      "Cell \u001b[0;32mIn [15], line 3\u001b[0m\n\u001b[1;32m      1\u001b[0m \u001b[39mfrom\u001b[39;00m \u001b[39mbs4\u001b[39;00m \u001b[39mimport\u001b[39;00m BeautifulSoup\n\u001b[1;32m      2\u001b[0m text\u001b[39m=\u001b[39m\u001b[39m'\u001b[39m\u001b[39m<div class=\u001b[39m\u001b[39m\"\u001b[39m\u001b[39mspecial\u001b[39m\u001b[39m\"\u001b[39m\u001b[39m><a href=\u001b[39m\u001b[39m\"\u001b[39m\u001b[39mhttp://www.somelink.com\u001b[39m\u001b[39m\"\u001b[39m\u001b[39m>Special link</a>\u001b[39m\u001b[39m'\u001b[39m\n\u001b[0;32m----> 3\u001b[0m \u001b[39mprint\u001b[39m(BeautifulSoup(text)\u001b[39m.\u001b[39;49mfind_all(\u001b[39m'\u001b[39;49m\u001b[39mdiv\u001b[39;49m\u001b[39m'\u001b[39;49m,{\u001b[39m'\u001b[39;49m\u001b[39mclass\u001b[39;49m\u001b[39m'\u001b[39;49m:\u001b[39m\"\u001b[39;49m\u001b[39mspecial\u001b[39;49m\u001b[39m\"\u001b[39;49m})\u001b[39m.\u001b[39;49mget_text())\n",
      "File \u001b[0;32m~/Library/Python/3.10/lib/python/site-packages/bs4/element.py:2289\u001b[0m, in \u001b[0;36mResultSet.__getattr__\u001b[0;34m(self, key)\u001b[0m\n\u001b[1;32m   2287\u001b[0m \u001b[39mdef\u001b[39;00m \u001b[39m__getattr__\u001b[39m(\u001b[39mself\u001b[39m, key):\n\u001b[1;32m   2288\u001b[0m     \u001b[39m\"\"\"Raise a helpful exception to explain a common code fix.\"\"\"\u001b[39;00m\n\u001b[0;32m-> 2289\u001b[0m     \u001b[39mraise\u001b[39;00m \u001b[39mAttributeError\u001b[39;00m(\n\u001b[1;32m   2290\u001b[0m         \u001b[39m\"\u001b[39m\u001b[39mResultSet object has no attribute \u001b[39m\u001b[39m'\u001b[39m\u001b[39m%s\u001b[39;00m\u001b[39m'\u001b[39m\u001b[39m. You\u001b[39m\u001b[39m'\u001b[39m\u001b[39mre probably treating a list of elements like a single element. Did you call find_all() when you meant to call find()?\u001b[39m\u001b[39m\"\u001b[39m \u001b[39m%\u001b[39m key\n\u001b[1;32m   2291\u001b[0m     )\n",
      "\u001b[0;31mAttributeError\u001b[0m: ResultSet object has no attribute 'get_text'. You're probably treating a list of elements like a single element. Did you call find_all() when you meant to call find()?"
     ]
    }
   ],
   "source": [
    "from bs4 import BeautifulSoup\n",
    "text='<div class=\"special\"><a href=\"http://www.somelink.com\">Special link</a>'\n",
    "print(BeautifulSoup(text).find_all('div',{'class':\"special\"}).get_text())"
   ]
  },
  {
   "cell_type": "code",
   "execution_count": 19,
   "metadata": {},
   "outputs": [
    {
     "name": "stdout",
     "output_type": "stream",
     "text": [
      "None\n"
     ]
    }
   ],
   "source": [
    "some_list = [1,2,3]\n",
    "def foo(x,y):\n",
    "    return x.append(y)\n",
    "some_list = foo(some_list,7)\n",
    "print(some_list)"
   ]
  },
  {
   "cell_type": "code",
   "execution_count": 26,
   "metadata": {},
   "outputs": [
    {
     "data": {
      "text/plain": [
       "2"
      ]
     },
     "execution_count": 26,
     "metadata": {},
     "output_type": "execute_result"
    }
   ],
   "source": [
    "a={\"A\":1,\"B\":2,\"C\":3}\n",
    "a['B']"
   ]
  },
  {
   "cell_type": "code",
   "execution_count": null,
   "metadata": {},
   "outputs": [
    {
     "data": {
      "text/plain": [
       "[('USD', 7.846982528525073),\n",
       " ('EUR', 8.523852836630375),\n",
       " ('GBP', 9.703554921579572),\n",
       " ('INR', 0.09634348531266976),\n",
       " ('AUD', 5.5116720436238955),\n",
       " ('CAD', 5.862183543124209),\n",
       " ('SGD', 5.946616364776855),\n",
       " ('CHF', 8.498259477212827),\n",
       " ('MYR', 1.8225401056082167),\n",
       " ('JPY', 0.06004275542159268),\n",
       " ('CNY', 1.1564014960364786),\n",
       " ('NZD', 5.08169943265458),\n",
       " ('THB', 0.23930439835296208),\n",
       " ('HUF', 0.021559881526232356),\n",
       " ('AED', 2.1366868695779644),\n",
       " ('HKD', 1.0022198475842778),\n",
       " ('MXN', 0.41678072295583396),\n",
       " ('ZAR', 0.4566149813286586),\n",
       " ('PHP', 0.14386881976024904),\n",
       " ('SEK', 0.7660881166182489),\n",
       " ('IDR', 0.0005219736309211541),\n",
       " ('BRL', 1.5123410640621406),\n",
       " ('SAR', 2.092528674273353),\n",
       " ('TRY', 0.4171921833634415),\n",
       " ('KES', 0.0631943239631863),\n",
       " ('KRW', 0.006376887480197225),\n",
       " ('EGP', 0.2625725179240601),\n",
       " ('IQD', 0.0053746103919373196),\n",
       " ('NOK', 0.798930573252859),\n",
       " ('KWD', 25.6874371437127),\n",
       " ('RUB', 0.11372532354768759),\n",
       " ('DKK', 1.1458142391133543),\n",
       " ('PKR', 0.03394716032860377),\n",
       " ('ILS', 2.3301762757217217),\n",
       " ('PLN', 1.8116052731551582),\n",
       " ('QAR', 2.1557644309134814),\n",
       " ('XAU', 15083.548596172348),\n",
       " ('OMR', 20.38097709205002),\n",
       " ('COP', 0.0017180149930154612),\n",
       " ('CLP', 0.009660264403835826),\n",
       " ('TWD', 0.25875785109290517),\n",
       " ('ARS', 0.042638900479483696),\n",
       " ('CZK', 0.35724631549566993),\n",
       " ('VND', 0.000333270258279304),\n",
       " ('MAD', 0.769909107720527),\n",
       " ('JOD', 11.06767634488727),\n",
       " ('BHD', 20.869634384375196),\n",
       " ('XOF', 0.012994529880206137),\n",
       " ('LKR', 0.021542225641943774),\n",
       " ('UAH', 0.212707152698031),\n",
       " ('NGN', 0.017076668775083178),\n",
       " ('TND', 2.548296490963234),\n",
       " ('UGX', 0.002132496969843667),\n",
       " ('RON', 1.7332412370593906),\n",
       " ('BDT', 0.0746946787301866),\n",
       " ('PEN', 2.0329201546713223),\n",
       " ('GEL', 2.9671090895925643),\n",
       " ('XAF', 0.012994529880206137),\n",
       " ('FJD', 3.627285566642615),\n",
       " ('VEF', 3.843281868250145e-06),\n",
       " ('VES', 0.3843281868250145),\n",
       " ('BYN', 3.135816918619386),\n",
       " ('UZS', 0.0006978571894689075),\n",
       " ('BGN', 4.358176751880468),\n",
       " ('DZD', 0.05765783656850432),\n",
       " ('IRR', 0.0001871935358312045),\n",
       " ('DOP', 0.13865515566509157),\n",
       " ('ISK', 0.055026243778445456),\n",
       " ('CRC', 0.013911781063387202),\n",
       " ('XAG', 182.45029814363008),\n",
       " ('SYP', 0.003123103727871506),\n",
       " ('JMD', 0.05132125784279788),\n",
       " ('LYD', 1.64618807993253),\n",
       " ('GHS', 0.6375333045397992),\n",
       " ('MUR', 0.17682267093670578),\n",
       " ('AOA', 0.01549367217158376),\n",
       " ('UYU', 0.20022451764606217),\n",
       " ('AFN', 0.08817320551904624),\n",
       " ('LBP', 0.005205295209635206),\n",
       " ('XPF', 0.07142988677122399),\n",
       " ('TTD', 1.1564173818312602),\n",
       " ('TZS', 0.0033597567661120846),\n",
       " ('ALL', 0.07312478049403567),\n",
       " ('XCD', 2.905369341055701),\n",
       " ('GTQ', 1.0),\n",
       " ('NPR', 0.06018646591452117),\n",
       " ('BOB', 1.1350702259054102),\n",
       " ('ZWD', 0.021682737022727477),\n",
       " ('BBD', 3.9234912642625366),\n",
       " ('CUC', 7.846982528525073),\n",
       " ('LAK', 0.00046419741729423607),\n",
       " ('BND', 5.946616364776855),\n",
       " ('BWP', 0.6150054789160143),\n",
       " ('HNL', 0.31817567904114885),\n",
       " ('PYG', 0.0010616015922056638),\n",
       " ('ETB', 0.1464575000717039),\n",
       " ('NAD', 0.4566149813286586),\n",
       " ('PGK', 2.228547611315519),\n",
       " ('SDG', 0.013704701207845258),\n",
       " ('MOP', 0.9730289782371631),\n",
       " ('BMD', 7.846982528525073),\n",
       " ('NIO', 0.21519094183916562),\n",
       " ('BAM', 4.358176751880468),\n",
       " ('KZT', 0.0169835046944243),\n",
       " ('PAB', 7.846982528525073),\n",
       " ('GYD', 0.037550480941322684),\n",
       " ('YER', 0.03134451080585848),\n",
       " ('MGA', 0.001820691481573722),\n",
       " ('KYD', 9.569528219677872),\n",
       " ('MZN', 0.12287015179516635),\n",
       " ('RSD', 0.07261243734262975),\n",
       " ('SCR', 0.5568988337926025),\n",
       " ('AMD', 0.01995146453759494),\n",
       " ('AZN', 4.612606909735824),\n",
       " ('SBD', 0.953392158223437),\n",
       " ('SLL', 0.00040594517538327746),\n",
       " ('TOP', 3.370511158583377),\n",
       " ('BZD', 3.893827296622612),\n",
       " ('GMD', 0.125969952530385),\n",
       " ('MWK', 0.007708381404291445),\n",
       " ('BIF', 0.003801024087918047),\n",
       " ('HTG', 0.05277243262050113),\n",
       " ('SOS', 0.013786647499360751),\n",
       " ('GNF', 0.0009117030040378635),\n",
       " ('MNT', 0.002265385871774182),\n",
       " ('MVR', 0.5083662852730775),\n",
       " ('CDF', 0.0038710561031271157),\n",
       " ('STN', 0.3479541957007872),\n",
       " ('TJS', 0.764774233204645),\n",
       " ('KPW', 0.008718559965295289),\n",
       " ('KGS', 0.09109522657232719),\n",
       " ('LRD', 0.05018753476577569),\n",
       " ('LSL', 0.4566149813286586),\n",
       " ('MMK', 0.00373751311581261),\n",
       " ('GIP', 9.703554921579572),\n",
       " ('XPT', 8193.211917460489),\n",
       " ('MDL', 0.4143680668385913),\n",
       " ('CUP', 0.3271079559547863),\n",
       " ('KHR', 0.0019055757415169258),\n",
       " ('MKD', 0.1385157089351252),\n",
       " ('VUV', 0.06754403979893028),\n",
       " ('ANG', 4.384914944544497),\n",
       " ('MRU', 0.21590318004328893),\n",
       " ('SZL', 0.4566149813286586),\n",
       " ('CVE', 0.0772998352827639),\n",
       " ('SRD', 0.2440601537587332),\n",
       " ('SVC', 0.8967980032600084),\n",
       " ('XPD', 13443.542655402583),\n",
       " ('BSD', 7.846982528525073),\n",
       " ('XDR', 10.588624413828192),\n",
       " ('RWF', 0.007291606966301082),\n",
       " ('AWG', 4.383789122081047),\n",
       " ('BTN', 0.09634348531266976),\n",
       " ('DJF', 0.044131106802855535),\n",
       " ('KMF', 0.017326039840274848),\n",
       " ('ERN', 0.5231321685683382),\n",
       " ('FKP', 9.703554921579572),\n",
       " ('SHP', 9.703554921579572),\n",
       " ('SPL', 47.081895359478025),\n",
       " ('WST', 2.9367984733534147),\n",
       " ('JEP', 9.703554921579572),\n",
       " ('TMT', 2.246138668123767),\n",
       " ('GGP', 9.703554921579572),\n",
       " ('IMP', 9.703554921579572),\n",
       " ('TVD', 5.5116720436238955),\n",
       " ('ZMW', 0.41988428559235835),\n",
       " ('ADA', 2.9588140061810893),\n",
       " ('BCH', 1046.1912853223032),\n",
       " ('BTC', 179555.44037158505),\n",
       " ('CLF', 206.06037051732488),\n",
       " ('CNH', 1.1578494903925778),\n",
       " ('DOGE', 0.691702596885865),\n",
       " ('DOT', 51.38465169438813),\n",
       " ('ETH', 12708.945498010957),\n",
       " ('LINK', 55.137034346929475),\n",
       " ('LTC', 703.4591213003017),\n",
       " ('LUNA', 1.3846280709143212e-40),\n",
       " ('MXV', 2.844463756191157),\n",
       " ('SLE', 0.40594517538327746),\n",
       " ('UNI', 0.5308026695718603),\n",
       " ('VED', 0.3843281868250145),\n",
       " ('XBT', 179555.44037158505),\n",
       " ('XLM', 0.7377118334303946),\n",
       " ('XRP', 3.326506583844377),\n",
       " ('ZWL', 0.010705158314312837)]"
      ]
     },
     "execution_count": 115,
     "metadata": {},
     "output_type": "execute_result"
    }
   ],
   "source": [
    "get_currency_rates('GTQ')"
   ]
  },
  {
   "cell_type": "code",
   "execution_count": null,
   "metadata": {},
   "outputs": [],
   "source": [
    "https://www.xe.com/currencyconverter/convert/?Amount=1&From=AFN&To=GTQ"
   ]
  },
  {
   "cell_type": "code",
   "execution_count": null,
   "metadata": {},
   "outputs": [],
   "source": [
    "def get_xchange_rate(c1,c2):\n",
    "    rate = None\n",
    "    url = \"https://www.xe.com/currencyconverter/convert/?Amount=1&From=\" + c1 +\"&To=\"+ c2\n",
    "    import requests\n",
    "    from bs4 import BeautifulSoup\n",
    "    response = requests.get(url)\n",
    "    if response.status_code == 200:\n",
    "        soup = BeautifulSoup(response.text)\n",
    "        tag = soup.find('p',{'class': 'iGrAod'})\n",
    "        print(tag.get_text().split()[0])\n",
    "    \n",
    "    return rate"
   ]
  },
  {
   "cell_type": "code",
   "execution_count": null,
   "metadata": {},
   "outputs": [
    {
     "name": "stdout",
     "output_type": "stream",
     "text": [
      "0.088103523\n"
     ]
    }
   ],
   "source": [
    "get_xchange_rate(c1=\"AFN\",c2='GTQ')"
   ]
  }
 ],
 "metadata": {
  "kernelspec": {
   "display_name": "Python 3.10.7 64-bit",
   "language": "python",
   "name": "python3"
  },
  "language_info": {
   "codemirror_mode": {
    "name": "ipython",
    "version": 3
   },
   "file_extension": ".py",
   "mimetype": "text/x-python",
   "name": "python",
   "nbconvert_exporter": "python",
   "pygments_lexer": "ipython3",
   "version": "3.10.7"
  },
  "orig_nbformat": 4,
  "vscode": {
   "interpreter": {
    "hash": "aee8b7b246df8f9039afb4144a1f6fd8d2ca17a180786b69acc140d282b71a49"
   }
  }
 },
 "nbformat": 4,
 "nbformat_minor": 2
}
